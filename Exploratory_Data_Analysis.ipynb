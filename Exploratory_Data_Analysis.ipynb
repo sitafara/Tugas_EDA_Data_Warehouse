{
 "cells": [
  {
   "cell_type": "markdown",
   "metadata": {},
   "source": [
    "# Visual"
   ]
  },
  {
   "cell_type": "code",
   "execution_count": 1,
   "metadata": {},
   "outputs": [],
   "source": [
    "import pandas as pd\n",
    "import matplotlib.pyplot as plt\n",
    "%matplotlib inline\n",
    "plt.style.use('seaborn')"
   ]
  },
  {
   "cell_type": "code",
   "execution_count": 11,
   "metadata": {},
   "outputs": [],
   "source": [
    "data = pd.read_excel('data_penjualan.xlsx')"
   ]
  },
  {
   "cell_type": "code",
   "execution_count": 12,
   "metadata": {},
   "outputs": [
    {
     "data": {
      "text/plain": [
       "(24, 7)"
      ]
     },
     "execution_count": 12,
     "metadata": {},
     "output_type": "execute_result"
    }
   ],
   "source": [
    "data.shape"
   ]
  },
  {
   "cell_type": "code",
   "execution_count": 13,
   "metadata": {},
   "outputs": [
    {
     "data": {
      "text/html": [
       "<div>\n",
       "<style scoped>\n",
       "    .dataframe tbody tr th:only-of-type {\n",
       "        vertical-align: middle;\n",
       "    }\n",
       "\n",
       "    .dataframe tbody tr th {\n",
       "        vertical-align: top;\n",
       "    }\n",
       "\n",
       "    .dataframe thead th {\n",
       "        text-align: right;\n",
       "    }\n",
       "</style>\n",
       "<table border=\"1\" class=\"dataframe\">\n",
       "  <thead>\n",
       "    <tr style=\"text-align: right;\">\n",
       "      <th></th>\n",
       "      <th>waktu</th>\n",
       "      <th>nama barang</th>\n",
       "      <th>harga</th>\n",
       "      <th>jumlah</th>\n",
       "      <th>pembeli</th>\n",
       "      <th>Unnamed: 5</th>\n",
       "      <th>daerah</th>\n",
       "    </tr>\n",
       "  </thead>\n",
       "  <tbody>\n",
       "    <tr>\n",
       "      <th>0</th>\n",
       "      <td>2010-01-02</td>\n",
       "      <td>sarimbit Standar Tulis Lukis</td>\n",
       "      <td>400000</td>\n",
       "      <td>11</td>\n",
       "      <td>Ibu Hatamah</td>\n",
       "      <td>NaN</td>\n",
       "      <td>gresik</td>\n",
       "    </tr>\n",
       "    <tr>\n",
       "      <th>1</th>\n",
       "      <td>2021-01-04</td>\n",
       "      <td>longdress Standar Tulis Gradasi</td>\n",
       "      <td>170000</td>\n",
       "      <td>17</td>\n",
       "      <td>Ibu niken</td>\n",
       "      <td>NaN</td>\n",
       "      <td>jakarta pusat</td>\n",
       "    </tr>\n",
       "    <tr>\n",
       "      <th>2</th>\n",
       "      <td>2010-01-05</td>\n",
       "      <td>kaos anak Standar Print Gradasi</td>\n",
       "      <td>55000</td>\n",
       "      <td>4</td>\n",
       "      <td>Bapak heru</td>\n",
       "      <td>NaN</td>\n",
       "      <td>malang</td>\n",
       "    </tr>\n",
       "    <tr>\n",
       "      <th>3</th>\n",
       "      <td>2010-01-05</td>\n",
       "      <td>kaos anak Standar Print Kebumen</td>\n",
       "      <td>55000</td>\n",
       "      <td>4</td>\n",
       "      <td>Bapak heru</td>\n",
       "      <td>NaN</td>\n",
       "      <td>malang</td>\n",
       "    </tr>\n",
       "    <tr>\n",
       "      <th>4</th>\n",
       "      <td>2010-01-05</td>\n",
       "      <td>kaos anak Standar Print Lukis</td>\n",
       "      <td>55000</td>\n",
       "      <td>4</td>\n",
       "      <td>Bapak heru</td>\n",
       "      <td>NaN</td>\n",
       "      <td>malang</td>\n",
       "    </tr>\n",
       "  </tbody>\n",
       "</table>\n",
       "</div>"
      ],
      "text/plain": [
       "       waktu                      nama barang   harga  jumlah      pembeli  \\\n",
       "0 2010-01-02     sarimbit Standar Tulis Lukis  400000      11  Ibu Hatamah   \n",
       "1 2021-01-04  longdress Standar Tulis Gradasi  170000      17    Ibu niken   \n",
       "2 2010-01-05  kaos anak Standar Print Gradasi   55000       4   Bapak heru   \n",
       "3 2010-01-05  kaos anak Standar Print Kebumen   55000       4   Bapak heru   \n",
       "4 2010-01-05    kaos anak Standar Print Lukis   55000       4   Bapak heru   \n",
       "\n",
       "   Unnamed: 5         daerah  \n",
       "0         NaN         gresik  \n",
       "1         NaN  jakarta pusat  \n",
       "2         NaN         malang  \n",
       "3         NaN         malang  \n",
       "4         NaN         malang  "
      ]
     },
     "execution_count": 13,
     "metadata": {},
     "output_type": "execute_result"
    }
   ],
   "source": [
    "data.head()"
   ]
  },
  {
   "cell_type": "code",
   "execution_count": 15,
   "metadata": {},
   "outputs": [],
   "source": [
    "transaksi = data.drop(['Unnamed: 5'],axis=1)"
   ]
  },
  {
   "cell_type": "code",
   "execution_count": 16,
   "metadata": {},
   "outputs": [
    {
     "data": {
      "text/html": [
       "<div>\n",
       "<style scoped>\n",
       "    .dataframe tbody tr th:only-of-type {\n",
       "        vertical-align: middle;\n",
       "    }\n",
       "\n",
       "    .dataframe tbody tr th {\n",
       "        vertical-align: top;\n",
       "    }\n",
       "\n",
       "    .dataframe thead th {\n",
       "        text-align: right;\n",
       "    }\n",
       "</style>\n",
       "<table border=\"1\" class=\"dataframe\">\n",
       "  <thead>\n",
       "    <tr style=\"text-align: right;\">\n",
       "      <th></th>\n",
       "      <th>waktu</th>\n",
       "      <th>nama barang</th>\n",
       "      <th>harga</th>\n",
       "      <th>jumlah</th>\n",
       "      <th>pembeli</th>\n",
       "      <th>daerah</th>\n",
       "    </tr>\n",
       "  </thead>\n",
       "  <tbody>\n",
       "    <tr>\n",
       "      <th>0</th>\n",
       "      <td>2010-01-02</td>\n",
       "      <td>sarimbit Standar Tulis Lukis</td>\n",
       "      <td>400000</td>\n",
       "      <td>11</td>\n",
       "      <td>Ibu Hatamah</td>\n",
       "      <td>gresik</td>\n",
       "    </tr>\n",
       "    <tr>\n",
       "      <th>1</th>\n",
       "      <td>2021-01-04</td>\n",
       "      <td>longdress Standar Tulis Gradasi</td>\n",
       "      <td>170000</td>\n",
       "      <td>17</td>\n",
       "      <td>Ibu niken</td>\n",
       "      <td>jakarta pusat</td>\n",
       "    </tr>\n",
       "    <tr>\n",
       "      <th>2</th>\n",
       "      <td>2010-01-05</td>\n",
       "      <td>kaos anak Standar Print Gradasi</td>\n",
       "      <td>55000</td>\n",
       "      <td>4</td>\n",
       "      <td>Bapak heru</td>\n",
       "      <td>malang</td>\n",
       "    </tr>\n",
       "    <tr>\n",
       "      <th>3</th>\n",
       "      <td>2010-01-05</td>\n",
       "      <td>kaos anak Standar Print Kebumen</td>\n",
       "      <td>55000</td>\n",
       "      <td>4</td>\n",
       "      <td>Bapak heru</td>\n",
       "      <td>malang</td>\n",
       "    </tr>\n",
       "    <tr>\n",
       "      <th>4</th>\n",
       "      <td>2010-01-05</td>\n",
       "      <td>kaos anak Standar Print Lukis</td>\n",
       "      <td>55000</td>\n",
       "      <td>4</td>\n",
       "      <td>Bapak heru</td>\n",
       "      <td>malang</td>\n",
       "    </tr>\n",
       "  </tbody>\n",
       "</table>\n",
       "</div>"
      ],
      "text/plain": [
       "       waktu                      nama barang   harga  jumlah      pembeli  \\\n",
       "0 2010-01-02     sarimbit Standar Tulis Lukis  400000      11  Ibu Hatamah   \n",
       "1 2021-01-04  longdress Standar Tulis Gradasi  170000      17    Ibu niken   \n",
       "2 2010-01-05  kaos anak Standar Print Gradasi   55000       4   Bapak heru   \n",
       "3 2010-01-05  kaos anak Standar Print Kebumen   55000       4   Bapak heru   \n",
       "4 2010-01-05    kaos anak Standar Print Lukis   55000       4   Bapak heru   \n",
       "\n",
       "          daerah  \n",
       "0         gresik  \n",
       "1  jakarta pusat  \n",
       "2         malang  \n",
       "3         malang  \n",
       "4         malang  "
      ]
     },
     "execution_count": 16,
     "metadata": {},
     "output_type": "execute_result"
    }
   ],
   "source": [
    "transaksi.head()"
   ]
  },
  {
   "cell_type": "code",
   "execution_count": 17,
   "metadata": {},
   "outputs": [
    {
     "data": {
      "text/plain": [
       "<AxesSubplot:xlabel='harga'>"
      ]
     },
     "execution_count": 17,
     "metadata": {},
     "output_type": "execute_result"
    },
    {
     "data": {
      "image/png": "[encoded data removed]",
      "text/plain": [
       "<Figure size 576x396 with 1 Axes>"
      ]
     },
     "metadata": {},
     "output_type": "display_data"
    }
   ],
   "source": [
    "transaksi.plot(x='harga', y='jumlah')"
   ]
  },
  {
   "cell_type": "code",
   "execution_count": 19,
   "metadata": {},
   "outputs": [
    {
     "data": {
      "text/plain": [
       "Text(0, 0.5, 'jumlah')"
      ]
     },
     "execution_count": 19,
     "metadata": {},
     "output_type": "execute_result"
    },
    {
     "data": {
      "image/png": "[encoded data removed]",
      "text/plain": [
       "<Figure size 576x396 with 1 Axes>"
      ]
     },
     "metadata": {},
     "output_type": "display_data"
    }
   ],
   "source": [
    "transaksi.plot(x='harga', y='jumlah', kind='scatter')\n",
    "plt.xlabel('harga')\n",
    "plt.ylabel('jumlah')"
   ]
  },
  {
   "cell_type": "code",
   "execution_count": 20,
   "metadata": {},
   "outputs": [
    {
     "data": {
      "text/plain": [
       "Text(0, 0.5, 'jumlah')"
      ]
     },
     "execution_count": 20,
     "metadata": {},
     "output_type": "execute_result"
    },
    {
     "data": {
      "image/png": "[encoded data removed]",
      "text/plain": [
       "<Figure size 576x396 with 1 Axes>"
      ]
     },
     "metadata": {},
     "output_type": "display_data"
    }
   ],
   "source": [
    "transaksi.plot(y='harga', kind='box')\n",
    "plt.ylabel('jumlah')"
   ]
  },
  {
   "cell_type": "code",
   "execution_count": 21,
   "metadata": {},
   "outputs": [
    {
     "data": {
      "text/plain": [
       "Text(0.5, 0, 'harga (cm)')"
      ]
     },
     "execution_count": 21,
     "metadata": {},
     "output_type": "execute_result"
    },
    {
     "data": {
      "image/png": "[encoded data removed]",
      "text/plain": [
       "<Figure size 576x396 with 1 Axes>"
      ]
     },
     "metadata": {},
     "output_type": "display_data"
    }
   ],
   "source": [
    "transaksi.plot(y='harga', kind='hist')\n",
    "plt.xlabel('harga (cm)')"
   ]
  },
  {
   "cell_type": "markdown",
   "metadata": {},
   "source": [
    "# Statistik"
   ]
  },
  {
   "cell_type": "code",
   "execution_count": 24,
   "metadata": {
    "scrolled": true
   },
   "outputs": [
    {
     "data": {
      "text/html": [
       "<div>\n",
       "<style scoped>\n",
       "    .dataframe tbody tr th:only-of-type {\n",
       "        vertical-align: middle;\n",
       "    }\n",
       "\n",
       "    .dataframe tbody tr th {\n",
       "        vertical-align: top;\n",
       "    }\n",
       "\n",
       "    .dataframe thead th {\n",
       "        text-align: right;\n",
       "    }\n",
       "</style>\n",
       "<table border=\"1\" class=\"dataframe\">\n",
       "  <thead>\n",
       "    <tr style=\"text-align: right;\">\n",
       "      <th></th>\n",
       "      <th>harga</th>\n",
       "      <th>jumlah</th>\n",
       "    </tr>\n",
       "  </thead>\n",
       "  <tbody>\n",
       "    <tr>\n",
       "      <th>count</th>\n",
       "      <td>24.000000</td>\n",
       "      <td>24.000000</td>\n",
       "    </tr>\n",
       "    <tr>\n",
       "      <th>mean</th>\n",
       "      <td>140416.666667</td>\n",
       "      <td>7.041667</td>\n",
       "    </tr>\n",
       "    <tr>\n",
       "      <th>std</th>\n",
       "      <td>109156.017845</td>\n",
       "      <td>6.759722</td>\n",
       "    </tr>\n",
       "    <tr>\n",
       "      <th>min</th>\n",
       "      <td>55000.000000</td>\n",
       "      <td>1.000000</td>\n",
       "    </tr>\n",
       "    <tr>\n",
       "      <th>25%</th>\n",
       "      <td>58750.000000</td>\n",
       "      <td>1.000000</td>\n",
       "    </tr>\n",
       "    <tr>\n",
       "      <th>50%</th>\n",
       "      <td>90000.000000</td>\n",
       "      <td>4.000000</td>\n",
       "    </tr>\n",
       "    <tr>\n",
       "      <th>75%</th>\n",
       "      <td>183750.000000</td>\n",
       "      <td>12.500000</td>\n",
       "    </tr>\n",
       "    <tr>\n",
       "      <th>max</th>\n",
       "      <td>400000.000000</td>\n",
       "      <td>17.000000</td>\n",
       "    </tr>\n",
       "  </tbody>\n",
       "</table>\n",
       "</div>"
      ],
      "text/plain": [
       "               harga     jumlah\n",
       "count      24.000000  24.000000\n",
       "mean   140416.666667   7.041667\n",
       "std    109156.017845   6.759722\n",
       "min     55000.000000   1.000000\n",
       "25%     58750.000000   1.000000\n",
       "50%     90000.000000   4.000000\n",
       "75%    183750.000000  12.500000\n",
       "max    400000.000000  17.000000"
      ]
     },
     "execution_count": 24,
     "metadata": {},
     "output_type": "execute_result"
    }
   ],
   "source": [
    "transaksi.describe()"
   ]
  },
  {
   "cell_type": "code",
   "execution_count": 25,
   "metadata": {},
   "outputs": [
    {
     "data": {
      "text/plain": [
       "waktu          24\n",
       "nama barang    24\n",
       "harga          24\n",
       "jumlah         24\n",
       "pembeli        24\n",
       "daerah         24\n",
       "dtype: int64"
      ]
     },
     "execution_count": 25,
     "metadata": {},
     "output_type": "execute_result"
    }
   ],
   "source": [
    "transaksi.count()"
   ]
  },
  {
   "cell_type": "code",
   "execution_count": 27,
   "metadata": {},
   "outputs": [
    {
     "data": {
      "text/plain": [
       "24"
      ]
     },
     "execution_count": 27,
     "metadata": {},
     "output_type": "execute_result"
    }
   ],
   "source": [
    "transaksi['harga'].count()"
   ]
  },
  {
   "cell_type": "code",
   "execution_count": 28,
   "metadata": {},
   "outputs": [
    {
     "name": "stderr",
     "output_type": "stream",
     "text": [
      "<ipython-input-28-04b1ae6fc50a>:1: FutureWarning: DataFrame.mean and DataFrame.median with numeric_only=None will include datetime64 and datetime64tz columns in a future version.\n",
      "  transaksi.mean()\n"
     ]
    },
    {
     "data": {
      "text/plain": [
       "harga     140416.666667\n",
       "jumlah         7.041667\n",
       "dtype: float64"
      ]
     },
     "execution_count": 28,
     "metadata": {},
     "output_type": "execute_result"
    }
   ],
   "source": [
    "transaksi.mean()"
   ]
  },
  {
   "cell_type": "code",
   "execution_count": 29,
   "metadata": {},
   "outputs": [
    {
     "data": {
      "text/plain": [
       "harga     109156.017845\n",
       "jumlah         6.759722\n",
       "dtype: float64"
      ]
     },
     "execution_count": 29,
     "metadata": {},
     "output_type": "execute_result"
    }
   ],
   "source": [
    "transaksi.std()"
   ]
  },
  {
   "cell_type": "code",
   "execution_count": 30,
   "metadata": {},
   "outputs": [
    {
     "data": {
      "text/plain": [
       "harga     90000.0\n",
       "jumlah        4.0\n",
       "Name: 0.5, dtype: float64"
      ]
     },
     "execution_count": 30,
     "metadata": {},
     "output_type": "execute_result"
    }
   ],
   "source": [
    "q = 0.5\n",
    "transaksi.quantile(q)"
   ]
  },
  {
   "cell_type": "code",
   "execution_count": 31,
   "metadata": {},
   "outputs": [
    {
     "data": {
      "text/html": [
       "<div>\n",
       "<style scoped>\n",
       "    .dataframe tbody tr th:only-of-type {\n",
       "        vertical-align: middle;\n",
       "    }\n",
       "\n",
       "    .dataframe tbody tr th {\n",
       "        vertical-align: top;\n",
       "    }\n",
       "\n",
       "    .dataframe thead th {\n",
       "        text-align: right;\n",
       "    }\n",
       "</style>\n",
       "<table border=\"1\" class=\"dataframe\">\n",
       "  <thead>\n",
       "    <tr style=\"text-align: right;\">\n",
       "      <th></th>\n",
       "      <th>harga</th>\n",
       "      <th>jumlah</th>\n",
       "    </tr>\n",
       "  </thead>\n",
       "  <tbody>\n",
       "    <tr>\n",
       "      <th>0.25</th>\n",
       "      <td>58750.0</td>\n",
       "      <td>1.0</td>\n",
       "    </tr>\n",
       "    <tr>\n",
       "      <th>0.75</th>\n",
       "      <td>183750.0</td>\n",
       "      <td>12.5</td>\n",
       "    </tr>\n",
       "  </tbody>\n",
       "</table>\n",
       "</div>"
      ],
      "text/plain": [
       "         harga  jumlah\n",
       "0.25   58750.0     1.0\n",
       "0.75  183750.0    12.5"
      ]
     },
     "execution_count": 31,
     "metadata": {},
     "output_type": "execute_result"
    }
   ],
   "source": [
    "q = [0.25, 0.75]\n",
    "transaksi.quantile(q)"
   ]
  },
  {
   "cell_type": "code",
   "execution_count": 32,
   "metadata": {},
   "outputs": [
    {
     "data": {
      "text/plain": [
       "waktu                2010-01-02 00:00:00\n",
       "nama barang    bahan Lurik Print Abstrak\n",
       "harga                              55000\n",
       "jumlah                                 1\n",
       "pembeli                      Bapak ardik\n",
       "daerah                             batam\n",
       "dtype: object"
      ]
     },
     "execution_count": 32,
     "metadata": {},
     "output_type": "execute_result"
    }
   ],
   "source": [
    "transaksi.min()"
   ]
  },
  {
   "cell_type": "code",
   "execution_count": 33,
   "metadata": {},
   "outputs": [
    {
     "data": {
      "text/plain": [
       "waktu                          2021-01-04 00:00:00\n",
       "nama barang    setelan Santung Print Wahyu tumurun\n",
       "harga                                       400000\n",
       "jumlah                                          17\n",
       "pembeli                                   Ibu tyas\n",
       "daerah                                    semarang\n",
       "dtype: object"
      ]
     },
     "execution_count": 33,
     "metadata": {},
     "output_type": "execute_result"
    }
   ],
   "source": [
    "transaksi.max()"
   ]
  },
  {
   "cell_type": "code",
   "execution_count": 34,
   "metadata": {},
   "outputs": [
    {
     "data": {
      "text/plain": [
       "Text(0, 0.5, '[cm]')"
      ]
     },
     "execution_count": 34,
     "metadata": {},
     "output_type": "execute_result"
    },
    {
     "data": {
      "image/png": "[encoded data removed]",
      "text/plain": [
       "<Figure size 576x396 with 1 Axes>"
      ]
     },
     "metadata": {},
     "output_type": "display_data"
    }
   ],
   "source": [
    "transaksi.plot(kind= 'box')\n",
    "plt.ylabel('[cm]')"
   ]
  },
  {
   "cell_type": "markdown",
   "metadata": {},
   "source": [
    "# # Filter"
   ]
  },
  {
   "cell_type": "code",
   "execution_count": 35,
   "metadata": {},
   "outputs": [
    {
     "data": {
      "text/html": [
       "<div>\n",
       "<style scoped>\n",
       "    .dataframe tbody tr th:only-of-type {\n",
       "        vertical-align: middle;\n",
       "    }\n",
       "\n",
       "    .dataframe tbody tr th {\n",
       "        vertical-align: top;\n",
       "    }\n",
       "\n",
       "    .dataframe thead th {\n",
       "        text-align: right;\n",
       "    }\n",
       "</style>\n",
       "<table border=\"1\" class=\"dataframe\">\n",
       "  <thead>\n",
       "    <tr style=\"text-align: right;\">\n",
       "      <th></th>\n",
       "      <th>waktu</th>\n",
       "      <th>nama barang</th>\n",
       "      <th>harga</th>\n",
       "      <th>jumlah</th>\n",
       "      <th>pembeli</th>\n",
       "      <th>daerah</th>\n",
       "    </tr>\n",
       "  </thead>\n",
       "  <tbody>\n",
       "    <tr>\n",
       "      <th>0</th>\n",
       "      <td>2010-01-02</td>\n",
       "      <td>sarimbit Standar Tulis Lukis</td>\n",
       "      <td>400000</td>\n",
       "      <td>11</td>\n",
       "      <td>Ibu Hatamah</td>\n",
       "      <td>gresik</td>\n",
       "    </tr>\n",
       "    <tr>\n",
       "      <th>1</th>\n",
       "      <td>2021-01-04</td>\n",
       "      <td>longdress Standar Tulis Gradasi</td>\n",
       "      <td>170000</td>\n",
       "      <td>17</td>\n",
       "      <td>Ibu niken</td>\n",
       "      <td>jakarta pusat</td>\n",
       "    </tr>\n",
       "    <tr>\n",
       "      <th>2</th>\n",
       "      <td>2010-01-05</td>\n",
       "      <td>kaos anak Standar Print Gradasi</td>\n",
       "      <td>55000</td>\n",
       "      <td>4</td>\n",
       "      <td>Bapak heru</td>\n",
       "      <td>malang</td>\n",
       "    </tr>\n",
       "    <tr>\n",
       "      <th>3</th>\n",
       "      <td>2010-01-05</td>\n",
       "      <td>kaos anak Standar Print Kebumen</td>\n",
       "      <td>55000</td>\n",
       "      <td>4</td>\n",
       "      <td>Bapak heru</td>\n",
       "      <td>malang</td>\n",
       "    </tr>\n",
       "    <tr>\n",
       "      <th>4</th>\n",
       "      <td>2010-01-05</td>\n",
       "      <td>kaos anak Standar Print Lukis</td>\n",
       "      <td>55000</td>\n",
       "      <td>4</td>\n",
       "      <td>Bapak heru</td>\n",
       "      <td>malang</td>\n",
       "    </tr>\n",
       "  </tbody>\n",
       "</table>\n",
       "</div>"
      ],
      "text/plain": [
       "       waktu                      nama barang   harga  jumlah      pembeli  \\\n",
       "0 2010-01-02     sarimbit Standar Tulis Lukis  400000      11  Ibu Hatamah   \n",
       "1 2021-01-04  longdress Standar Tulis Gradasi  170000      17    Ibu niken   \n",
       "2 2010-01-05  kaos anak Standar Print Gradasi   55000       4   Bapak heru   \n",
       "3 2010-01-05  kaos anak Standar Print Kebumen   55000       4   Bapak heru   \n",
       "4 2010-01-05    kaos anak Standar Print Lukis   55000       4   Bapak heru   \n",
       "\n",
       "          daerah  \n",
       "0         gresik  \n",
       "1  jakarta pusat  \n",
       "2         malang  \n",
       "3         malang  \n",
       "4         malang  "
      ]
     },
     "execution_count": 35,
     "metadata": {},
     "output_type": "execute_result"
    }
   ],
   "source": [
    "transaksi.head()"
   ]
  },
  {
   "cell_type": "code",
   "execution_count": 39,
   "metadata": {},
   "outputs": [
    {
     "data": {
      "text/plain": [
       "count        24\n",
       "unique        9\n",
       "top       kudus\n",
       "freq          6\n",
       "Name: daerah, dtype: object"
      ]
     },
     "execution_count": 39,
     "metadata": {},
     "output_type": "execute_result"
    }
   ],
   "source": [
    "transaksi['daerah'].describe()"
   ]
  },
  {
   "cell_type": "code",
   "execution_count": 40,
   "metadata": {},
   "outputs": [
    {
     "data": {
      "text/plain": [
       "kudus            6\n",
       "bogor            3\n",
       "semarang         3\n",
       "malang           3\n",
       "pekalongan       3\n",
       "ciamis           2\n",
       "batam            2\n",
       "gresik           1\n",
       "jakarta pusat    1\n",
       "Name: daerah, dtype: int64"
      ]
     },
     "execution_count": 40,
     "metadata": {},
     "output_type": "execute_result"
    }
   ],
   "source": [
    "transaksi['daerah'].value_counts()"
   ]
  },
  {
   "cell_type": "code",
   "execution_count": 41,
   "metadata": {},
   "outputs": [
    {
     "data": {
      "text/plain": [
       "array(['gresik', 'jakarta pusat', 'malang', 'batam', 'pekalongan',\n",
       "       'ciamis', 'semarang', 'bogor', 'kudus'], dtype=object)"
      ]
     },
     "execution_count": 41,
     "metadata": {},
     "output_type": "execute_result"
    }
   ],
   "source": [
    "transaksi['daerah'].unique()"
   ]
  },
  {
   "cell_type": "code",
   "execution_count": 43,
   "metadata": {},
   "outputs": [],
   "source": [
    "index_kudus = transaksi['daerah'] == 'kudus'\n",
    "index_bogor = transaksi['daerah'] == 'bogor'\n",
    "index_semarang = transaksi['daerah'] == 'semarang'\n",
    "index_malang = transaksi['daerah'] == 'malang'\n",
    "index_pekalongan = transaksi['daerah'] == 'pekalongan'\n",
    "index_ciamis = transaksi['daerah'] == 'ciamis'\n",
    "index_batam = transaksi['daerah'] == 'batam'\n",
    "index_gresik = transaksi['daerah'] == 'gresik'\n",
    "index_jakarta_pusat = transaksi['daerah'] == 'jakarta pusat'"
   ]
  },
  {
   "cell_type": "code",
   "execution_count": 44,
   "metadata": {},
   "outputs": [],
   "source": [
    "kudus = transaksi[index_kudus]\n",
    "bogor = transaksi[index_bogor]\n",
    "semarang = transaksi[index_semarang]\n",
    "malang = transaksi[index_malang]\n",
    "pekalongan = transaksi[index_pekalongan]\n",
    "ciamis = transaksi[index_ciamis]\n",
    "batam = transaksi[index_batam]\n",
    "gresik = transaksi[index_gresik]\n",
    "jakarta_pusat = transaksi[index_jakarta_pusat]"
   ]
  },
  {
   "cell_type": "code",
   "execution_count": 45,
   "metadata": {},
   "outputs": [
    {
     "data": {
      "text/plain": [
       "array(['kudus'], dtype=object)"
      ]
     },
     "execution_count": 45,
     "metadata": {},
     "output_type": "execute_result"
    }
   ],
   "source": [
    "kudus['daerah'].unique()"
   ]
  },
  {
   "cell_type": "code",
   "execution_count": 46,
   "metadata": {},
   "outputs": [
    {
     "data": {
      "text/plain": [
       "array(['bogor'], dtype=object)"
      ]
     },
     "execution_count": 46,
     "metadata": {},
     "output_type": "execute_result"
    }
   ],
   "source": [
    "bogor['daerah'].unique()"
   ]
  },
  {
   "cell_type": "code",
   "execution_count": 47,
   "metadata": {},
   "outputs": [
    {
     "data": {
      "text/plain": [
       "array(['semarang'], dtype=object)"
      ]
     },
     "execution_count": 47,
     "metadata": {},
     "output_type": "execute_result"
    }
   ],
   "source": [
    "semarang['daerah'].unique()"
   ]
  },
  {
   "cell_type": "code",
   "execution_count": 48,
   "metadata": {},
   "outputs": [
    {
     "data": {
      "text/plain": [
       "array(['malang'], dtype=object)"
      ]
     },
     "execution_count": 48,
     "metadata": {},
     "output_type": "execute_result"
    }
   ],
   "source": [
    "malang['daerah'].unique()"
   ]
  },
  {
   "cell_type": "code",
   "execution_count": 49,
   "metadata": {},
   "outputs": [
    {
     "data": {
      "text/plain": [
       "array(['pekalongan'], dtype=object)"
      ]
     },
     "execution_count": 49,
     "metadata": {},
     "output_type": "execute_result"
    }
   ],
   "source": [
    "pekalongan['daerah'].unique()"
   ]
  },
  {
   "cell_type": "code",
   "execution_count": 50,
   "metadata": {},
   "outputs": [
    {
     "data": {
      "text/plain": [
       "array(['ciamis'], dtype=object)"
      ]
     },
     "execution_count": 50,
     "metadata": {},
     "output_type": "execute_result"
    }
   ],
   "source": [
    "ciamis['daerah'].unique()"
   ]
  },
  {
   "cell_type": "code",
   "execution_count": 51,
   "metadata": {},
   "outputs": [
    {
     "data": {
      "text/plain": [
       "array(['batam'], dtype=object)"
      ]
     },
     "execution_count": 51,
     "metadata": {},
     "output_type": "execute_result"
    }
   ],
   "source": [
    "batam['daerah'].unique()"
   ]
  },
  {
   "cell_type": "code",
   "execution_count": 52,
   "metadata": {},
   "outputs": [
    {
     "data": {
      "text/plain": [
       "array(['gresik'], dtype=object)"
      ]
     },
     "execution_count": 52,
     "metadata": {},
     "output_type": "execute_result"
    }
   ],
   "source": [
    "gresik['daerah'].unique()"
   ]
  },
  {
   "cell_type": "code",
   "execution_count": 53,
   "metadata": {},
   "outputs": [
    {
     "data": {
      "text/plain": [
       "array(['jakarta pusat'], dtype=object)"
      ]
     },
     "execution_count": 53,
     "metadata": {},
     "output_type": "execute_result"
    }
   ],
   "source": [
    "jakarta_pusat['daerah'].unique()"
   ]
  },
  {
   "cell_type": "code",
   "execution_count": 54,
   "metadata": {},
   "outputs": [
    {
     "data": {
      "text/html": [
       "<div>\n",
       "<style scoped>\n",
       "    .dataframe tbody tr th:only-of-type {\n",
       "        vertical-align: middle;\n",
       "    }\n",
       "\n",
       "    .dataframe tbody tr th {\n",
       "        vertical-align: top;\n",
       "    }\n",
       "\n",
       "    .dataframe thead th {\n",
       "        text-align: right;\n",
       "    }\n",
       "</style>\n",
       "<table border=\"1\" class=\"dataframe\">\n",
       "  <thead>\n",
       "    <tr style=\"text-align: right;\">\n",
       "      <th></th>\n",
       "      <th>waktu</th>\n",
       "      <th>nama barang</th>\n",
       "      <th>harga</th>\n",
       "      <th>jumlah</th>\n",
       "      <th>pembeli</th>\n",
       "      <th>daerah</th>\n",
       "    </tr>\n",
       "  </thead>\n",
       "  <tbody>\n",
       "    <tr>\n",
       "      <th>13</th>\n",
       "      <td>2010-01-19</td>\n",
       "      <td>celana pendek Standar Cap Abstrak</td>\n",
       "      <td>55000</td>\n",
       "      <td>17</td>\n",
       "      <td>Ibu hadi sukarni</td>\n",
       "      <td>bogor</td>\n",
       "    </tr>\n",
       "    <tr>\n",
       "      <th>14</th>\n",
       "      <td>2010-01-19</td>\n",
       "      <td>celana pendek Standar Cap Sogan</td>\n",
       "      <td>55000</td>\n",
       "      <td>17</td>\n",
       "      <td>Ibu hadi sukarni</td>\n",
       "      <td>bogor</td>\n",
       "    </tr>\n",
       "  </tbody>\n",
       "</table>\n",
       "</div>"
      ],
      "text/plain": [
       "        waktu                        nama barang  harga  jumlah  \\\n",
       "13 2010-01-19  celana pendek Standar Cap Abstrak  55000      17   \n",
       "14 2010-01-19    celana pendek Standar Cap Sogan  55000      17   \n",
       "\n",
       "             pembeli daerah  \n",
       "13  Ibu hadi sukarni  bogor  \n",
       "14  Ibu hadi sukarni  bogor  "
      ]
     },
     "execution_count": 54,
     "metadata": {},
     "output_type": "execute_result"
    }
   ],
   "source": [
    "bogor.head(2)"
   ]
  },
  {
   "cell_type": "code",
   "execution_count": 55,
   "metadata": {},
   "outputs": [
    {
     "data": {
      "text/html": [
       "<div>\n",
       "<style scoped>\n",
       "    .dataframe tbody tr th:only-of-type {\n",
       "        vertical-align: middle;\n",
       "    }\n",
       "\n",
       "    .dataframe tbody tr th {\n",
       "        vertical-align: top;\n",
       "    }\n",
       "\n",
       "    .dataframe thead th {\n",
       "        text-align: right;\n",
       "    }\n",
       "</style>\n",
       "<table border=\"1\" class=\"dataframe\">\n",
       "  <thead>\n",
       "    <tr style=\"text-align: right;\">\n",
       "      <th></th>\n",
       "      <th>waktu</th>\n",
       "      <th>nama barang</th>\n",
       "      <th>harga</th>\n",
       "      <th>jumlah</th>\n",
       "      <th>pembeli</th>\n",
       "      <th>daerah</th>\n",
       "    </tr>\n",
       "  </thead>\n",
       "  <tbody>\n",
       "    <tr>\n",
       "      <th>16</th>\n",
       "      <td>2010-01-28</td>\n",
       "      <td>hem Standar Cap Gradasi</td>\n",
       "      <td>125000</td>\n",
       "      <td>1</td>\n",
       "      <td>Ibu tyas</td>\n",
       "      <td>kudus</td>\n",
       "    </tr>\n",
       "    <tr>\n",
       "      <th>17</th>\n",
       "      <td>2010-01-28</td>\n",
       "      <td>hem Standar Cap Jumput</td>\n",
       "      <td>125000</td>\n",
       "      <td>1</td>\n",
       "      <td>Ibu tyas</td>\n",
       "      <td>kudus</td>\n",
       "    </tr>\n",
       "  </tbody>\n",
       "</table>\n",
       "</div>"
      ],
      "text/plain": [
       "        waktu              nama barang   harga  jumlah   pembeli daerah\n",
       "16 2010-01-28  hem Standar Cap Gradasi  125000       1  Ibu tyas  kudus\n",
       "17 2010-01-28   hem Standar Cap Jumput  125000       1  Ibu tyas  kudus"
      ]
     },
     "execution_count": 55,
     "metadata": {},
     "output_type": "execute_result"
    }
   ],
   "source": [
    "kudus.head(2)"
   ]
  },
  {
   "cell_type": "code",
   "execution_count": 56,
   "metadata": {},
   "outputs": [
    {
     "data": {
      "text/html": [
       "<div>\n",
       "<style scoped>\n",
       "    .dataframe tbody tr th:only-of-type {\n",
       "        vertical-align: middle;\n",
       "    }\n",
       "\n",
       "    .dataframe tbody tr th {\n",
       "        vertical-align: top;\n",
       "    }\n",
       "\n",
       "    .dataframe thead th {\n",
       "        text-align: right;\n",
       "    }\n",
       "</style>\n",
       "<table border=\"1\" class=\"dataframe\">\n",
       "  <thead>\n",
       "    <tr style=\"text-align: right;\">\n",
       "      <th></th>\n",
       "      <th>waktu</th>\n",
       "      <th>nama barang</th>\n",
       "      <th>harga</th>\n",
       "      <th>jumlah</th>\n",
       "      <th>pembeli</th>\n",
       "      <th>daerah</th>\n",
       "    </tr>\n",
       "  </thead>\n",
       "  <tbody>\n",
       "    <tr>\n",
       "      <th>10</th>\n",
       "      <td>2010-01-18</td>\n",
       "      <td>bahan Lurik Print Abstrak</td>\n",
       "      <td>90000</td>\n",
       "      <td>1</td>\n",
       "      <td>Ibu atik</td>\n",
       "      <td>semarang</td>\n",
       "    </tr>\n",
       "    <tr>\n",
       "      <th>11</th>\n",
       "      <td>2010-01-18</td>\n",
       "      <td>bahan Lurik Print kelengan</td>\n",
       "      <td>90000</td>\n",
       "      <td>1</td>\n",
       "      <td>Ibu atik</td>\n",
       "      <td>semarang</td>\n",
       "    </tr>\n",
       "  </tbody>\n",
       "</table>\n",
       "</div>"
      ],
      "text/plain": [
       "        waktu                 nama barang  harga  jumlah   pembeli    daerah\n",
       "10 2010-01-18   bahan Lurik Print Abstrak  90000       1  Ibu atik  semarang\n",
       "11 2010-01-18  bahan Lurik Print kelengan  90000       1  Ibu atik  semarang"
      ]
     },
     "execution_count": 56,
     "metadata": {},
     "output_type": "execute_result"
    }
   ],
   "source": [
    "semarang.head(2)"
   ]
  },
  {
   "cell_type": "code",
   "execution_count": 57,
   "metadata": {},
   "outputs": [
    {
     "data": {
      "text/html": [
       "<div>\n",
       "<style scoped>\n",
       "    .dataframe tbody tr th:only-of-type {\n",
       "        vertical-align: middle;\n",
       "    }\n",
       "\n",
       "    .dataframe tbody tr th {\n",
       "        vertical-align: top;\n",
       "    }\n",
       "\n",
       "    .dataframe thead th {\n",
       "        text-align: right;\n",
       "    }\n",
       "</style>\n",
       "<table border=\"1\" class=\"dataframe\">\n",
       "  <thead>\n",
       "    <tr style=\"text-align: right;\">\n",
       "      <th></th>\n",
       "      <th>waktu</th>\n",
       "      <th>nama barang</th>\n",
       "      <th>harga</th>\n",
       "      <th>jumlah</th>\n",
       "      <th>pembeli</th>\n",
       "      <th>daerah</th>\n",
       "    </tr>\n",
       "  </thead>\n",
       "  <tbody>\n",
       "    <tr>\n",
       "      <th>2</th>\n",
       "      <td>2010-01-05</td>\n",
       "      <td>kaos anak Standar Print Gradasi</td>\n",
       "      <td>55000</td>\n",
       "      <td>4</td>\n",
       "      <td>Bapak heru</td>\n",
       "      <td>malang</td>\n",
       "    </tr>\n",
       "    <tr>\n",
       "      <th>3</th>\n",
       "      <td>2010-01-05</td>\n",
       "      <td>kaos anak Standar Print Kebumen</td>\n",
       "      <td>55000</td>\n",
       "      <td>4</td>\n",
       "      <td>Bapak heru</td>\n",
       "      <td>malang</td>\n",
       "    </tr>\n",
       "  </tbody>\n",
       "</table>\n",
       "</div>"
      ],
      "text/plain": [
       "       waktu                      nama barang  harga  jumlah     pembeli  \\\n",
       "2 2010-01-05  kaos anak Standar Print Gradasi  55000       4  Bapak heru   \n",
       "3 2010-01-05  kaos anak Standar Print Kebumen  55000       4  Bapak heru   \n",
       "\n",
       "   daerah  \n",
       "2  malang  \n",
       "3  malang  "
      ]
     },
     "execution_count": 57,
     "metadata": {},
     "output_type": "execute_result"
    }
   ],
   "source": [
    "malang.head(2)"
   ]
  },
  {
   "cell_type": "code",
   "execution_count": 58,
   "metadata": {},
   "outputs": [
    {
     "data": {
      "text/html": [
       "<div>\n",
       "<style scoped>\n",
       "    .dataframe tbody tr th:only-of-type {\n",
       "        vertical-align: middle;\n",
       "    }\n",
       "\n",
       "    .dataframe tbody tr th {\n",
       "        vertical-align: top;\n",
       "    }\n",
       "\n",
       "    .dataframe thead th {\n",
       "        text-align: right;\n",
       "    }\n",
       "</style>\n",
       "<table border=\"1\" class=\"dataframe\">\n",
       "  <thead>\n",
       "    <tr style=\"text-align: right;\">\n",
       "      <th></th>\n",
       "      <th>waktu</th>\n",
       "      <th>nama barang</th>\n",
       "      <th>harga</th>\n",
       "      <th>jumlah</th>\n",
       "      <th>pembeli</th>\n",
       "      <th>daerah</th>\n",
       "    </tr>\n",
       "  </thead>\n",
       "  <tbody>\n",
       "    <tr>\n",
       "      <th>7</th>\n",
       "      <td>2010-01-06</td>\n",
       "      <td>sarimbit Standar Tulis Semen rama</td>\n",
       "      <td>400000</td>\n",
       "      <td>11</td>\n",
       "      <td>Ibu niken</td>\n",
       "      <td>pekalongan</td>\n",
       "    </tr>\n",
       "    <tr>\n",
       "      <th>18</th>\n",
       "      <td>2010-02-06</td>\n",
       "      <td>setelan Santung Print Makota</td>\n",
       "      <td>60000</td>\n",
       "      <td>17</td>\n",
       "      <td>Ibu niken</td>\n",
       "      <td>pekalongan</td>\n",
       "    </tr>\n",
       "    <tr>\n",
       "      <th>19</th>\n",
       "      <td>2010-02-06</td>\n",
       "      <td>setelan Santung Print Wahyu tumurun</td>\n",
       "      <td>60000</td>\n",
       "      <td>17</td>\n",
       "      <td>Ibu niken</td>\n",
       "      <td>pekalongan</td>\n",
       "    </tr>\n",
       "  </tbody>\n",
       "</table>\n",
       "</div>"
      ],
      "text/plain": [
       "        waktu                          nama barang   harga  jumlah    pembeli  \\\n",
       "7  2010-01-06    sarimbit Standar Tulis Semen rama  400000      11  Ibu niken   \n",
       "18 2010-02-06         setelan Santung Print Makota   60000      17  Ibu niken   \n",
       "19 2010-02-06  setelan Santung Print Wahyu tumurun   60000      17  Ibu niken   \n",
       "\n",
       "        daerah  \n",
       "7   pekalongan  \n",
       "18  pekalongan  \n",
       "19  pekalongan  "
      ]
     },
     "execution_count": 58,
     "metadata": {},
     "output_type": "execute_result"
    }
   ],
   "source": [
    "pekalongan.head()"
   ]
  },
  {
   "cell_type": "code",
   "execution_count": 59,
   "metadata": {},
   "outputs": [
    {
     "data": {
      "text/html": [
       "<div>\n",
       "<style scoped>\n",
       "    .dataframe tbody tr th:only-of-type {\n",
       "        vertical-align: middle;\n",
       "    }\n",
       "\n",
       "    .dataframe tbody tr th {\n",
       "        vertical-align: top;\n",
       "    }\n",
       "\n",
       "    .dataframe thead th {\n",
       "        text-align: right;\n",
       "    }\n",
       "</style>\n",
       "<table border=\"1\" class=\"dataframe\">\n",
       "  <thead>\n",
       "    <tr style=\"text-align: right;\">\n",
       "      <th></th>\n",
       "      <th>waktu</th>\n",
       "      <th>nama barang</th>\n",
       "      <th>harga</th>\n",
       "      <th>jumlah</th>\n",
       "      <th>pembeli</th>\n",
       "      <th>daerah</th>\n",
       "    </tr>\n",
       "  </thead>\n",
       "  <tbody>\n",
       "    <tr>\n",
       "      <th>8</th>\n",
       "      <td>2010-01-14</td>\n",
       "      <td>selendang Standar Cap Sogan</td>\n",
       "      <td>90000</td>\n",
       "      <td>2</td>\n",
       "      <td>Ibu siti arya</td>\n",
       "      <td>ciamis</td>\n",
       "    </tr>\n",
       "    <tr>\n",
       "      <th>9</th>\n",
       "      <td>2010-01-14</td>\n",
       "      <td>selendang Standar Cap Tumpal</td>\n",
       "      <td>90000</td>\n",
       "      <td>2</td>\n",
       "      <td>Ibu siti arya</td>\n",
       "      <td>ciamis</td>\n",
       "    </tr>\n",
       "  </tbody>\n",
       "</table>\n",
       "</div>"
      ],
      "text/plain": [
       "       waktu                   nama barang  harga  jumlah        pembeli  \\\n",
       "8 2010-01-14   selendang Standar Cap Sogan  90000       2  Ibu siti arya   \n",
       "9 2010-01-14  selendang Standar Cap Tumpal  90000       2  Ibu siti arya   \n",
       "\n",
       "   daerah  \n",
       "8  ciamis  \n",
       "9  ciamis  "
      ]
     },
     "execution_count": 59,
     "metadata": {},
     "output_type": "execute_result"
    }
   ],
   "source": [
    "ciamis.head(2)"
   ]
  },
  {
   "cell_type": "code",
   "execution_count": 60,
   "metadata": {},
   "outputs": [
    {
     "data": {
      "text/html": [
       "<div>\n",
       "<style scoped>\n",
       "    .dataframe tbody tr th:only-of-type {\n",
       "        vertical-align: middle;\n",
       "    }\n",
       "\n",
       "    .dataframe tbody tr th {\n",
       "        vertical-align: top;\n",
       "    }\n",
       "\n",
       "    .dataframe thead th {\n",
       "        text-align: right;\n",
       "    }\n",
       "</style>\n",
       "<table border=\"1\" class=\"dataframe\">\n",
       "  <thead>\n",
       "    <tr style=\"text-align: right;\">\n",
       "      <th></th>\n",
       "      <th>waktu</th>\n",
       "      <th>nama barang</th>\n",
       "      <th>harga</th>\n",
       "      <th>jumlah</th>\n",
       "      <th>pembeli</th>\n",
       "      <th>daerah</th>\n",
       "    </tr>\n",
       "  </thead>\n",
       "  <tbody>\n",
       "    <tr>\n",
       "      <th>5</th>\n",
       "      <td>2010-01-06</td>\n",
       "      <td>bolero Standar Cap Kontemporer</td>\n",
       "      <td>225000</td>\n",
       "      <td>1</td>\n",
       "      <td>Bapak ardik</td>\n",
       "      <td>batam</td>\n",
       "    </tr>\n",
       "    <tr>\n",
       "      <th>6</th>\n",
       "      <td>2010-01-06</td>\n",
       "      <td>bolero Standar Cap Mahkota</td>\n",
       "      <td>225000</td>\n",
       "      <td>1</td>\n",
       "      <td>Bapak ardik</td>\n",
       "      <td>batam</td>\n",
       "    </tr>\n",
       "  </tbody>\n",
       "</table>\n",
       "</div>"
      ],
      "text/plain": [
       "       waktu                     nama barang   harga  jumlah      pembeli  \\\n",
       "5 2010-01-06  bolero Standar Cap Kontemporer  225000       1  Bapak ardik   \n",
       "6 2010-01-06      bolero Standar Cap Mahkota  225000       1  Bapak ardik   \n",
       "\n",
       "  daerah  \n",
       "5  batam  \n",
       "6  batam  "
      ]
     },
     "execution_count": 60,
     "metadata": {},
     "output_type": "execute_result"
    }
   ],
   "source": [
    "batam.head(2)"
   ]
  },
  {
   "cell_type": "code",
   "execution_count": 61,
   "metadata": {},
   "outputs": [
    {
     "data": {
      "text/html": [
       "<div>\n",
       "<style scoped>\n",
       "    .dataframe tbody tr th:only-of-type {\n",
       "        vertical-align: middle;\n",
       "    }\n",
       "\n",
       "    .dataframe tbody tr th {\n",
       "        vertical-align: top;\n",
       "    }\n",
       "\n",
       "    .dataframe thead th {\n",
       "        text-align: right;\n",
       "    }\n",
       "</style>\n",
       "<table border=\"1\" class=\"dataframe\">\n",
       "  <thead>\n",
       "    <tr style=\"text-align: right;\">\n",
       "      <th></th>\n",
       "      <th>waktu</th>\n",
       "      <th>nama barang</th>\n",
       "      <th>harga</th>\n",
       "      <th>jumlah</th>\n",
       "      <th>pembeli</th>\n",
       "      <th>daerah</th>\n",
       "    </tr>\n",
       "  </thead>\n",
       "  <tbody>\n",
       "    <tr>\n",
       "      <th>1</th>\n",
       "      <td>2021-01-04</td>\n",
       "      <td>longdress Standar Tulis Gradasi</td>\n",
       "      <td>170000</td>\n",
       "      <td>17</td>\n",
       "      <td>Ibu niken</td>\n",
       "      <td>jakarta pusat</td>\n",
       "    </tr>\n",
       "  </tbody>\n",
       "</table>\n",
       "</div>"
      ],
      "text/plain": [
       "       waktu                      nama barang   harga  jumlah    pembeli  \\\n",
       "1 2021-01-04  longdress Standar Tulis Gradasi  170000      17  Ibu niken   \n",
       "\n",
       "          daerah  \n",
       "1  jakarta pusat  "
      ]
     },
     "execution_count": 61,
     "metadata": {},
     "output_type": "execute_result"
    }
   ],
   "source": [
    "jakarta_pusat.head(2)"
   ]
  },
  {
   "cell_type": "code",
   "execution_count": 62,
   "metadata": {},
   "outputs": [
    {
     "data": {
      "text/plain": [
       "Text(0.5, 0, '[cm]')"
      ]
     },
     "execution_count": 62,
     "metadata": {},
     "output_type": "execute_result"
    },
    {
     "data": {
      "image/png": "[encoded data removed]",
      "text/plain": [
       "<Figure size 576x396 with 1 Axes>"
      ]
     },
     "metadata": {},
     "output_type": "display_data"
    }
   ],
   "source": [
    "transaksi.plot(kind= 'hist', bins=50, range=(0,8), alpha=0.4)\n",
    "plt.title('Entire transaksi data set')\n",
    "plt.xlabel('[cm]')"
   ]
  },
  {
   "cell_type": "code",
   "execution_count": 63,
   "metadata": {},
   "outputs": [
    {
     "data": {
      "text/plain": [
       "Text(0.5, 0, '[cm]')"
      ]
     },
     "execution_count": 63,
     "metadata": {},
     "output_type": "execute_result"
    },
    {
     "data": {
      "image/png": "[encoded data removed]",
      "text/plain": [
       "<Figure size 576x396 with 1 Axes>"
      ]
     },
     "metadata": {},
     "output_type": "display_data"
    }
   ],
   "source": [
    "kudus.plot(kind='hist', bins=50, range=(0,8), alpha=0.5)\n",
    "plt.title('kudus data set')\n",
    "plt.xlabel('[cm]')"
   ]
  },
  {
   "cell_type": "code",
   "execution_count": 65,
   "metadata": {},
   "outputs": [
    {
     "data": {
      "text/plain": [
       "Text(0.5, 0, '[cm]')"
      ]
     },
     "execution_count": 65,
     "metadata": {},
     "output_type": "execute_result"
    },
    {
     "data": {
      "image/png": "[encoded data removed]",
      "text/plain": [
       "<Figure size 576x396 with 1 Axes>"
      ]
     },
     "metadata": {},
     "output_type": "display_data"
    }
   ],
   "source": [
    "semarang.plot(kind='hist', bins=50, range=(0,8), alpha=0.5)\n",
    "plt.title('Semarang data set')\n",
    "plt.xlabel('[cm]')"
   ]
  },
  {
   "cell_type": "code",
   "execution_count": 66,
   "metadata": {},
   "outputs": [
    {
     "data": {
      "text/plain": [
       "Text(0.5, 0, '[cm]')"
      ]
     },
     "execution_count": 66,
     "metadata": {},
     "output_type": "execute_result"
    },
    {
     "data": {
      "image/png": "[encoded data removed]",
      "text/plain": [
       "<Figure size 576x396 with 1 Axes>"
      ]
     },
     "metadata": {},
     "output_type": "display_data"
    }
   ],
   "source": [
    "malang.plot(kind='hist', bins=50, range=(0,8), alpha=0.5)\n",
    "plt.title('malang data set')\n",
    "plt.xlabel('[cm]')"
   ]
  },
  {
   "cell_type": "code",
   "execution_count": 69,
   "metadata": {},
   "outputs": [
    {
     "data": {
      "text/plain": [
       "Text(0.5, 0, '[cm]')"
      ]
     },
     "execution_count": 69,
     "metadata": {},
     "output_type": "execute_result"
    },
    {
     "data": {
      "image/png": "[encoded data removed]",
      "text/plain": [
       "<Figure size 576x396 with 1 Axes>"
      ]
     },
     "metadata": {},
     "output_type": "display_data"
    }
   ],
   "source": [
    "ciamis.plot(kind='hist', bins=50, range=(0,8), alpha=0.5)\n",
    "plt.title('ciamis data set')\n",
    "plt.xlabel('[cm]')"
   ]
  },
  {
   "cell_type": "code",
   "execution_count": 71,
   "metadata": {},
   "outputs": [
    {
     "data": {
      "text/plain": [
       "Text(0.5, 0, '[cm]')"
      ]
     },
     "execution_count": 71,
     "metadata": {},
     "output_type": "execute_result"
    },
    {
     "data": {
      "image/png": "[encoded data removed]",
      "text/plain": [
       "<Figure size 576x396 with 1 Axes>"
      ]
     },
     "metadata": {},
     "output_type": "display_data"
    }
   ],
   "source": [
    "batam.plot(kind='hist', bins=50, range=(0,8), alpha=0.5)\n",
    "plt.title('batam data set')\n",
    "plt.xlabel('[cm]')"
   ]
  },
  {
   "cell_type": "code",
   "execution_count": null,
   "metadata": {},
   "outputs": [],
   "source": []
  }
 ],
 "metadata": {
  "kernelspec": {
   "display_name": "Python 3",
   "language": "python",
   "name": "python3"
  },
  "language_info": {
   "codemirror_mode": {
    "name": "ipython",
    "version": 3
   },
   "file_extension": ".py",
   "mimetype": "text/x-python",
   "name": "python",
   "nbconvert_exporter": "python",
   "pygments_lexer": "ipython3",
   "version": "3.8.5"
  }
 },
 "nbformat": 4,
 "nbformat_minor": 4
}
